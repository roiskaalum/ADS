{
 "cells": [
  {
   "cell_type": "code",
   "execution_count": 28,
   "id": "ddf7ec25-0677-4083-b58f-36d346a9887c",
   "metadata": {},
   "outputs": [
    {
     "name": "stdout",
     "output_type": "stream",
     "text": [
      "Hello world  :-)\n"
     ]
    }
   ],
   "source": [
    "print(\"Hello world  :-)\")"
   ]
  },
  {
   "cell_type": "code",
   "execution_count": 30,
   "id": "cf7be649-d2c0-46e6-abb2-8881a1dc2658",
   "metadata": {},
   "outputs": [],
   "source": [
    "L = [1, 2, 4, 5, 6]"
   ]
  },
  {
   "cell_type": "code",
   "execution_count": 32,
   "id": "e37c72b1-fc92-45e9-b529-2713eb352022",
   "metadata": {},
   "outputs": [
    {
     "name": "stdout",
     "output_type": "stream",
     "text": [
      "1\n",
      "2\n",
      "4\n",
      "5\n",
      "6\n"
     ]
    }
   ],
   "source": [
    "for i in L:\n",
    "    print(i)"
   ]
  },
  {
   "cell_type": "code",
   "execution_count": 34,
   "id": "9826e1b8-2e3f-43bb-857a-fe8ec739601d",
   "metadata": {},
   "outputs": [],
   "source": [
    "L = [2, 4, 5.9, \"monkey\", 3]"
   ]
  },
  {
   "cell_type": "code",
   "execution_count": 38,
   "id": "2a9bd5ae-a04e-4454-abf7-a82e6a52adae",
   "metadata": {},
   "outputs": [
    {
     "name": "stdout",
     "output_type": "stream",
     "text": [
      "<class 'int'>\n",
      "<class 'int'>\n",
      "<class 'float'>\n",
      "<class 'str'>\n",
      "<class 'int'>\n"
     ]
    }
   ],
   "source": [
    "for i in L:\n",
    "    print(type(i))"
   ]
  },
  {
   "cell_type": "code",
   "execution_count": 40,
   "id": "56175dc3-78bd-4a90-b4ad-84d7b9bec367",
   "metadata": {},
   "outputs": [
    {
     "name": "stdout",
     "output_type": "stream",
     "text": [
      "0\n",
      "1\n",
      "2\n",
      "3\n",
      "4\n",
      "5\n",
      "6\n",
      "7\n",
      "8\n",
      "9\n"
     ]
    }
   ],
   "source": [
    "N = 10\n",
    "for i in range(N): #i from 0 to N-1\n",
    "    print(i)"
   ]
  },
  {
   "cell_type": "code",
   "execution_count": 44,
   "id": "06d4086a-2dc7-4cfe-8fb9-54c8a9029525",
   "metadata": {
    "scrolled": true
   },
   "outputs": [
    {
     "name": "stdout",
     "output_type": "stream",
     "text": [
      "7\n",
      "I said 7!\n",
      "5\n",
      "I said 5!\n",
      "3\n",
      "I said 3!\n"
     ]
    }
   ],
   "source": [
    "for i in range(7, 2, -2):\n",
    "    print(i)\n",
    "    print(\"I said {}!\".format(i))"
   ]
  },
  {
   "cell_type": "code",
   "execution_count": 2,
   "id": "5f31260d-441d-42e3-b7ba-0c2abb41dfc2",
   "metadata": {},
   "outputs": [],
   "source": [
    "x = 42"
   ]
  },
  {
   "cell_type": "code",
   "execution_count": 3,
   "id": "00647cc4-d792-4eaa-8812-9dc2904de490",
   "metadata": {},
   "outputs": [],
   "source": [
    "y = \"monkey\""
   ]
  },
  {
   "cell_type": "code",
   "execution_count": 4,
   "id": "01362ae7-8300-4316-bed0-b97f8a2e9367",
   "metadata": {},
   "outputs": [
    {
     "ename": "TypeError",
     "evalue": "unsupported operand type(s) for +: 'int' and 'str'",
     "output_type": "error",
     "traceback": [
      "\u001b[1;31m---------------------------------------------------------------------------\u001b[0m",
      "\u001b[1;31mTypeError\u001b[0m                                 Traceback (most recent call last)",
      "Cell \u001b[1;32mIn[4], line 1\u001b[0m\n\u001b[1;32m----> 1\u001b[0m x \u001b[38;5;241m+\u001b[39m y\n",
      "\u001b[1;31mTypeError\u001b[0m: unsupported operand type(s) for +: 'int' and 'str'"
     ]
    }
   ],
   "source": [
    "x + y"
   ]
  },
  {
   "cell_type": "code",
   "execution_count": 52,
   "id": "0b9e6edf-8753-4117-9e0e-f28ed62cfabd",
   "metadata": {},
   "outputs": [
    {
     "data": {
      "text/plain": [
       "'42monkey'"
      ]
     },
     "execution_count": 52,
     "metadata": {},
     "output_type": "execute_result"
    }
   ],
   "source": [
    "str(x) + y"
   ]
  },
  {
   "cell_type": "code",
   "execution_count": 54,
   "id": "ccbdaff2-3575-4a7d-97a1-a6558fd2d0b3",
   "metadata": {},
   "outputs": [
    {
     "ename": "ValueError",
     "evalue": "invalid literal for int() with base 10: 'monkey'",
     "output_type": "error",
     "traceback": [
      "\u001b[1;31m---------------------------------------------------------------------------\u001b[0m",
      "\u001b[1;31mValueError\u001b[0m                                Traceback (most recent call last)",
      "Cell \u001b[1;32mIn[54], line 1\u001b[0m\n\u001b[1;32m----> 1\u001b[0m \u001b[38;5;28mint\u001b[39m(y)\n",
      "\u001b[1;31mValueError\u001b[0m: invalid literal for int() with base 10: 'monkey'"
     ]
    }
   ],
   "source": [
    "int(y)"
   ]
  },
  {
   "cell_type": "code",
   "execution_count": 72,
   "id": "5e04ab5b-2a24-4ab1-8a84-d2dd42fa2bc2",
   "metadata": {},
   "outputs": [],
   "source": [
    "a = 27\n",
    "b = 32"
   ]
  },
  {
   "cell_type": "code",
   "execution_count": 74,
   "id": "7a290210-afdd-43d8-86c1-369a564f192b",
   "metadata": {},
   "outputs": [
    {
     "name": "stdout",
     "output_type": "stream",
     "text": [
      "a = 27 and b = 32\n"
     ]
    }
   ],
   "source": [
    "print(\"a = {} and b = {}\".format(a, b))"
   ]
  },
  {
   "cell_type": "code",
   "execution_count": 76,
   "id": "115d702b-02d2-4fdb-949b-7938de8deef9",
   "metadata": {},
   "outputs": [],
   "source": [
    "a, b = b, a #swapping"
   ]
  },
  {
   "cell_type": "code",
   "execution_count": 78,
   "id": "ff1dedeb-77a1-40f3-8fcd-4ce3400da119",
   "metadata": {},
   "outputs": [
    {
     "name": "stdout",
     "output_type": "stream",
     "text": [
      "a = 32 and b = 27\n"
     ]
    }
   ],
   "source": [
    "print(\"a = {} and b = {}\".format(a, b))"
   ]
  },
  {
   "cell_type": "code",
   "execution_count": 80,
   "id": "13078fa0-2ea7-441a-b288-3e06a2e6d13a",
   "metadata": {},
   "outputs": [],
   "source": [
    "c = \"hest\""
   ]
  },
  {
   "cell_type": "code",
   "execution_count": 82,
   "id": "7f3ed239-4ad2-4cc2-9f0e-b7737554fcf6",
   "metadata": {},
   "outputs": [
    {
     "name": "stdout",
     "output_type": "stream",
     "text": [
      "a = 32 and b = 27 and c = hest\n"
     ]
    }
   ],
   "source": [
    "print(\"a = {} and b = {} and c = {}\".format(a , b, c))"
   ]
  },
  {
   "cell_type": "code",
   "execution_count": 84,
   "id": "fb6e631b-a26c-4dde-96ee-4e832d20641a",
   "metadata": {},
   "outputs": [
    {
     "name": "stdout",
     "output_type": "stream",
     "text": [
      "42monkey27hest\n"
     ]
    }
   ],
   "source": [
    "if a > 30:\n",
    "    print(str(x) + y + str(b)+ c)"
   ]
  },
  {
   "cell_type": "markdown",
   "id": "8c7c4f51-e44f-44a1-908c-e425a436c2fc",
   "metadata": {},
   "source": [
    "Dette er en tekst"
   ]
  },
  {
   "cell_type": "markdown",
   "id": "e69aa26b-77f9-4787-ab14-fffa3341b9d3",
   "metadata": {},
   "source": [
    "# This is me in markdown mode\n",
    "## And I just want to know\n",
    "### ret lille\n",
    "Why on _Earth_ would you want to write 42monkey27hest?"
   ]
  },
  {
   "cell_type": "markdown",
   "id": "c6b72c41-e7a7-46b6-aede-1d6fe1e0e782",
   "metadata": {},
   "source": [
    "For your hand-ins, you can write stuff like: \"The following piece of code implements the algorithm BucketSort!\""
   ]
  },
  {
   "cell_type": "code",
   "execution_count": 90,
   "id": "57296c09-79b6-44e1-9909-aa0b18e0773b",
   "metadata": {},
   "outputs": [
    {
     "name": "stdout",
     "output_type": "stream",
     "text": [
      "30\n",
      "33\n",
      "36\n",
      "39\n",
      "42\n"
     ]
    }
   ],
   "source": [
    "while b < x:\n",
    "    b += 3\n",
    "    print(b)\n",
    "\n"
   ]
  },
  {
   "cell_type": "markdown",
   "id": "9b0fdc5b-239c-4016-b0d9-a8b28b8b533e",
   "metadata": {},
   "source": [
    "You can do _italics_ and __boldface__"
   ]
  },
  {
   "cell_type": "markdown",
   "id": "51ae943f-1ca5-482d-af74-4e8a84f388aa",
   "metadata": {},
   "source": [
    "## Let's do something more interesting\n",
    "### What is this?\n",
    "Something _italic?_"
   ]
  },
  {
   "cell_type": "code",
   "execution_count": 5,
   "id": "f54214bc-53ec-4957-8e59-06e4a3f203b2",
   "metadata": {},
   "outputs": [],
   "source": [
    "def unique(array):\n",
    "    for i in range(len(array)):\n",
    "        for j in range(len(array)):\n",
    "            if i != j and array[i] == array[j]:\n",
    "                return False\n",
    "    return True"
   ]
  },
  {
   "cell_type": "code",
   "execution_count": 106,
   "id": "39de3e0a-0767-4c17-a743-cc7f08a43694",
   "metadata": {},
   "outputs": [
    {
     "data": {
      "text/plain": [
       "False"
      ]
     },
     "execution_count": 106,
     "metadata": {},
     "output_type": "execute_result"
    }
   ],
   "source": [
    "L = [2, 4, 5, 6, 7, 4]\n",
    "unique(L)"
   ]
  },
  {
   "cell_type": "code",
   "execution_count": 3,
   "id": "08e21a07-3e2e-4070-9976-0651b6e38a20",
   "metadata": {},
   "outputs": [],
   "source": [
    "from time import time\n",
    "import matplotlib.pyplot as plt"
   ]
  },
  {
   "cell_type": "markdown",
   "id": "36fadf41-34de-4672-9e93-566ee625338c",
   "metadata": {},
   "source": [
    "What is the time complexity of the function below?"
   ]
  },
  {
   "cell_type": "code",
   "execution_count": 2,
   "id": "5e6961ab-e498-40c9-9d61-49f88ffbc9cd",
   "metadata": {},
   "outputs": [],
   "source": [
    "def time_unique(array, unique_func):\n",
    "    start_time = time()\n",
    "    unique_func(array)\n",
    "    end_time = time()\n",
    "    return end_time - start_time"
   ]
  },
  {
   "cell_type": "code",
   "execution_count": 16,
   "id": "1fdeafec-2c37-43b2-8a3f-14111919e03a",
   "metadata": {},
   "outputs": [],
   "source": [
    "N = 2000\n",
    "lengths = list(range(N))\n",
    "times = [0 for _ in range(N)]\n",
    "\n",
    "for arr_len in range(N):\n",
    "    array = [x for x in range(arr_len)] #we cheat and make sure it is unique = worst case\n",
    "    times[arr_len] = time_unique(array, unique)\n",
    "        "
   ]
  },
  {
   "cell_type": "code",
   "execution_count": 17,
   "id": "c2bdd816-ecd7-48f5-babe-a5a5d975d0c5",
   "metadata": {},
   "outputs": [
    {
     "data": {
      "image/png": "[encoded data removed]",
      "text/plain": [
       "<Figure size 640x480 with 1 Axes>"
      ]
     },
     "metadata": {},
     "output_type": "display_data"
    }
   ],
   "source": [
    "plt.figure()\n",
    "plt.plot(lengths, times, '.b')\n",
    "plt.show()"
   ]
  },
  {
   "cell_type": "code",
   "execution_count": 18,
   "id": "0728fc4b-6ad3-474f-8f29-56798ebef3eb",
   "metadata": {},
   "outputs": [],
   "source": [
    "def better_unique(array):\n",
    "    for i in range(len(array)):\n",
    "        for j in range(i+1, len(array)):\n",
    "            if array[i] == array[j]:\n",
    "                return False\n",
    "    return True"
   ]
  },
  {
   "cell_type": "code",
   "execution_count": 20,
   "id": "67e0a566-e275-40f7-8611-20d4bcf283a1",
   "metadata": {},
   "outputs": [
    {
     "ename": "KeyboardInterrupt",
     "evalue": "",
     "output_type": "error",
     "traceback": [
      "\u001b[1;31m---------------------------------------------------------------------------\u001b[0m",
      "\u001b[1;31mKeyboardInterrupt\u001b[0m                         Traceback (most recent call last)",
      "Cell \u001b[1;32mIn[20], line 5\u001b[0m\n\u001b[0;32m      3\u001b[0m \u001b[38;5;28;01mfor\u001b[39;00m arr_len \u001b[38;5;129;01min\u001b[39;00m \u001b[38;5;28mrange\u001b[39m(N):\n\u001b[0;32m      4\u001b[0m     array \u001b[38;5;241m=\u001b[39m [x \u001b[38;5;28;01mfor\u001b[39;00m x \u001b[38;5;129;01min\u001b[39;00m \u001b[38;5;28mrange\u001b[39m(arr_len)] \u001b[38;5;66;03m#we cheat and make sure it is unique = worst case\u001b[39;00m\n\u001b[1;32m----> 5\u001b[0m     times_better[arr_len] \u001b[38;5;241m=\u001b[39m time_unique(array, better_unique)\n",
      "Cell \u001b[1;32mIn[2], line 3\u001b[0m, in \u001b[0;36mtime_unique\u001b[1;34m(array, unique_func)\u001b[0m\n\u001b[0;32m      1\u001b[0m \u001b[38;5;28;01mdef\u001b[39;00m \u001b[38;5;21mtime_unique\u001b[39m(array, unique_func):\n\u001b[0;32m      2\u001b[0m     start_time \u001b[38;5;241m=\u001b[39m time()\n\u001b[1;32m----> 3\u001b[0m     unique_func(array)\n\u001b[0;32m      4\u001b[0m     end_time \u001b[38;5;241m=\u001b[39m time()\n\u001b[0;32m      5\u001b[0m     \u001b[38;5;28;01mreturn\u001b[39;00m end_time \u001b[38;5;241m-\u001b[39m start_time\n",
      "Cell \u001b[1;32mIn[18], line 4\u001b[0m, in \u001b[0;36mbetter_unique\u001b[1;34m(array)\u001b[0m\n\u001b[0;32m      2\u001b[0m \u001b[38;5;28;01mfor\u001b[39;00m i \u001b[38;5;129;01min\u001b[39;00m \u001b[38;5;28mrange\u001b[39m(\u001b[38;5;28mlen\u001b[39m(array)):\n\u001b[0;32m      3\u001b[0m     \u001b[38;5;28;01mfor\u001b[39;00m j \u001b[38;5;129;01min\u001b[39;00m \u001b[38;5;28mrange\u001b[39m(i\u001b[38;5;241m+\u001b[39m\u001b[38;5;241m1\u001b[39m, \u001b[38;5;28mlen\u001b[39m(array)):\n\u001b[1;32m----> 4\u001b[0m         \u001b[38;5;28;01mif\u001b[39;00m array[i] \u001b[38;5;241m==\u001b[39m array[j]:\n\u001b[0;32m      5\u001b[0m             \u001b[38;5;28;01mreturn\u001b[39;00m \u001b[38;5;28;01mFalse\u001b[39;00m\n\u001b[0;32m      6\u001b[0m \u001b[38;5;28;01mreturn\u001b[39;00m \u001b[38;5;28;01mTrue\u001b[39;00m\n",
      "\u001b[1;31mKeyboardInterrupt\u001b[0m: "
     ]
    }
   ],
   "source": [
    "times_better = [0 for _ in range(N)]\n",
    "\n",
    "for arr_len in range(N):\n",
    "    array = [x for x in range(arr_len)] #we cheat and make sure it is unique = worst case\n",
    "    times_better[arr_len] = time_unique(array, better_unique)\n",
    "      "
   ]
  },
  {
   "cell_type": "code",
   "execution_count": 15,
   "id": "fc2c60e3-ff65-4099-8123-abff53304646",
   "metadata": {},
   "outputs": [
    {
     "data": {
      "image/png": "[encoded data removed]",
      "text/plain": [
       "<Figure size 640x480 with 1 Axes>"
      ]
     },
     "metadata": {},
     "output_type": "display_data"
    }
   ],
   "source": [
    "plt.figure()\n",
    "plt.plot(lengths, times, '.b', label = \"unique\")\n",
    "plt.plot(lengths, times_better, '.r', label = \"better_unique\")\n",
    "plt.legend()\n",
    "plt.xlabel(\"Input size, n\")\n",
    "plt.ylabel(\"Time, t\")\n",
    "plt.show()"
   ]
  },
  {
   "cell_type": "code",
   "execution_count": 2,
   "id": "1d9bd707-7789-4a23-9400-67e870c16b22",
   "metadata": {},
   "outputs": [],
   "source": [
    "class Teacher:\n",
    "\n",
    "    def __init__(self, name, age, experience = 0, tenure = True):\n",
    "        self.name = name\n",
    "        self.age = age\n",
    "        self.experience = experience\n",
    "        self.tenure = tenure\n",
    "\n",
    "    def print_info(self):\n",
    "        string = \"{} is a teacher at VIA. He is {} years old and have {} years of experience.\".format(self.name, self.age, self.experience)\n",
    "        if self.tenure:\n",
    "            string += \" They are an associate professor.\"\n",
    "        else:\n",
    "            string += \" They are an assistant professor.\"\n",
    "        print(string)\n",
    "\n",
    "    def promote(self):\n",
    "        if not self.tenure:\n",
    "            self.tenure = True\n",
    "        else:\n",
    "            print(\"You cannot promote an associate professor!\")\n",
    "\n",
    "    def sayHello(self):\n",
    "        print(\"Hello \" + self.name)\n",
    "\n",
    "    def getName(self):\n",
    "        return self.name\n",
    "    \n"
   ]
  },
  {
   "cell_type": "code",
   "execution_count": 6,
   "id": "c1b800c2-3222-437c-855e-27a2c991f077",
   "metadata": {},
   "outputs": [
    {
     "name": "stdout",
     "output_type": "stream",
     "text": [
      "Lars is a teacher at VIA. He is 55 years old and have 22 years of experience. They are an assistant professor.\n",
      "Lars is a teacher at VIA. He is 55 years old and have 22 years of experience. They are an associate professor.\n",
      "You cannot promote an associate professor!\n",
      "Hello Lars\n",
      "Lars\n",
      "Rachel\n",
      "Lars\n"
     ]
    }
   ],
   "source": [
    "LBS = Teacher(\"Lars\", 55, 22, False)\n",
    "RSTO = Teacher(\"Rachel\", 35, 0, True)\n",
    "LBS.print_info()\n",
    "LBS.promote()\n",
    "LBS.print_info()\n",
    "LBS.promote()\n",
    "LBS.sayHello()\n",
    "print(LBS.getName())\n",
    "print(RSTO.getName())\n",
    "print(LBS.name)"
   ]
  },
  {
   "cell_type": "code",
   "execution_count": 12,
   "id": "03407012-64bd-4aa9-a2c6-8135cacb42b2",
   "metadata": {},
   "outputs": [
    {
     "name": "stdout",
     "output_type": "stream",
     "text": [
      "{'trew', 'first', 'to'}\n"
     ]
    }
   ],
   "source": [
    "def test(something=None):\n",
    "    if something == None:\n",
    "        something = set()\n",
    "        something.add(\"first\")\n",
    "    something.add(input(\"Write something: \"))\n",
    "    return something\n",
    "\n",
    "def myScript():\n",
    "    first_func_call = set()#test(123)\n",
    "    second = test(first_func_call)\n",
    "    print(test(test()))\n",
    "   # print(test())\n",
    "\n",
    "\n",
    "myScript()\n",
    "\n"
   ]
  }
 ],
 "metadata": {
  "kernelspec": {
   "display_name": "base",
   "language": "python",
   "name": "python3"
  },
  "language_info": {
   "codemirror_mode": {
    "name": "ipython",
    "version": 3
   },
   "file_extension": ".py",
   "mimetype": "text/x-python",
   "name": "python",
   "nbconvert_exporter": "python",
   "pygments_lexer": "ipython3",
   "version": "3.13.5"
  }
 },
 "nbformat": 4,
 "nbformat_minor": 5
}
