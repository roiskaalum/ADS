{
 "cells": [
  {
   "cell_type": "markdown",
   "id": "bd93712b",
   "metadata": {},
   "source": [
    "Finding Palindromes:\n",
    "def palindromeCheck(string)\n",
    "    originalString = string\n",
    "    poppedString = \"\"\n",
    "    stack = new()\n",
    "    for i to len(string):\n",
    "        stack.push(string[i])\n",
    "    for i to len(string):\n",
    "        poppedString = poppedString + stack.pop()\n",
    "    if poppedString == originalString\n",
    "        return true\n",
    "    return false\n",
    "    "
   ]
  },
  {
   "cell_type": "code",
   "execution_count": 5,
   "id": "1da2f2c5",
   "metadata": {},
   "outputs": [
    {
     "name": "stdout",
     "output_type": "stream",
     "text": [
      "True\n",
      "False\n",
      "False\n",
      "False\n",
      "True\n"
     ]
    }
   ],
   "source": [
    "class Stack:\n",
    "    size = 0\n",
    "    def __init__(self):\n",
    "        \"\"\"Initialize an empty stack.\"\"\"\n",
    "        self.items = []\n",
    "        self.size = 0\n",
    "\n",
    "    def push(self, item):\n",
    "        \"\"\"Add an item to the top of the stack.\"\"\"\n",
    "        self.items.append(item)\n",
    "        self.size += 1\n",
    "\n",
    "    def pop(self):\n",
    "        \"\"\"Remove and return the top item from the stack. Raises IndexError if empty.\"\"\"\n",
    "        if self.size == 0:\n",
    "            raise IndexError(\"pop from empty stack\")\n",
    "        self.size -= 1\n",
    "        return self.items.pop()\n",
    "\n",
    "    def peek(self):\n",
    "        \"\"\"Return the top item without removing it. Raises IndexError if empty.\"\"\"\n",
    "        if self.is_empty():\n",
    "            raise IndexError(\"peek from empty stack\")\n",
    "        return self.items[-1]\n",
    "\n",
    "    def is_empty(self):\n",
    "        \"\"\"Return True if the stack is empty, else False.\"\"\"\n",
    "        return len(self.items) == 0\n",
    "\n",
    "    def size(self):\n",
    "        \"\"\"Return the number of items in the stack.\"\"\"\n",
    "        return self.size\n",
    "\n",
    "    def __str__(self):\n",
    "        \"\"\"Return a string representation of the stack (top to bottom).\"\"\"\n",
    "        return f\"Stack({self.items})\"\n",
    "\n",
    "def palindromeCheck(input):\n",
    "    input = input.lower()\n",
    "    poppedString = \"\"\n",
    "    stack = Stack()\n",
    "    for i in range(len(input)):\n",
    "        stack.push(input[i])\n",
    "    for i in range(len(input)):\n",
    "        poppedString += stack.pop()\n",
    "    if input == poppedString:\n",
    "        return True\n",
    "    return False\n",
    "\n",
    "print(palindromeCheck(\"racecar\"))\n",
    "print(palindromeCheck(\"hello\"))\n",
    "print(palindromeCheck(\"A Santa at NASA sat a\"))\n",
    "print(palindromeCheck(\"Was it a car or a cat I saw\"))\n",
    "print(palindromeCheck(\"malayalam\"))"
   ]
  }
 ],
 "metadata": {
  "kernelspec": {
   "display_name": "base",
   "language": "python",
   "name": "python3"
  },
  "language_info": {
   "codemirror_mode": {
    "name": "ipython",
    "version": 3
   },
   "file_extension": ".py",
   "mimetype": "text/x-python",
   "name": "python",
   "nbconvert_exporter": "python",
   "pygments_lexer": "ipython3",
   "version": "3.13.5"
  }
 },
 "nbformat": 4,
 "nbformat_minor": 5
}
