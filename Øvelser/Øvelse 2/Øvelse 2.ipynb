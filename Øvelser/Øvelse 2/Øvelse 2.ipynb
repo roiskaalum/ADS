{
 "cells": [
  {
   "cell_type": "markdown",
   "id": "a71a65d9",
   "metadata": {},
   "source": []
  },
  {
   "cell_type": "code",
   "execution_count": null,
   "id": "0ade7ad0",
   "metadata": {},
   "outputs": [],
   "source": []
  }
 ],
 "metadata": {
  "language_info": {
   "name": "python"
  }
 },
 "nbformat": 4,
 "nbformat_minor": 5
}
