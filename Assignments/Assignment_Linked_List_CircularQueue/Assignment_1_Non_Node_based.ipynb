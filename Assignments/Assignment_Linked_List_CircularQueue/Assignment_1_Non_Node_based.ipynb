{
 "cells": [
  {
   "cell_type": "markdown",
   "id": "3b9b44a0",
   "metadata": {},
   "source": [
    "CircularQueue implementation:"
   ]
  },
  {
   "cell_type": "code",
   "execution_count": 3,
   "id": "3ffb8ae8",
   "metadata": {},
   "outputs": [],
   "source": [
    "class CircularQueue:\n",
    "    def __init__(self, capacity):\n",
    "        self.capacity = capacity\n",
    "        self.queue = [None] * capacity  # fixed-size array\n",
    "        self.front_index = 0\n",
    "        self.rear_index = -1\n",
    "        self.count = 0\n",
    "\n",
    "    def enqueue(self, x):\n",
    "        if self.is_full():\n",
    "            return False\n",
    "        self.rear_index = (self.rear_index + 1) % self.capacity\n",
    "        self.queue[self.rear_index] = x\n",
    "        self.count += 1\n",
    "        return True\n",
    "\n",
    "    def dequeue(self):\n",
    "        if self.is_empty():\n",
    "            return None\n",
    "        item = self.queue[self.front_index]\n",
    "        self.queue[self.front_index] = None  # optional, clear slot\n",
    "        self.front_index = (self.front_index + 1) % self.capacity\n",
    "        self.count -= 1\n",
    "        return item\n",
    "\n",
    "    def front(self):\n",
    "        if self.is_empty():\n",
    "            return None\n",
    "        return self.queue[self.front_index]\n",
    "\n",
    "    def is_empty(self):\n",
    "        return self.count == 0\n",
    "\n",
    "    def is_full(self):\n",
    "        return self.count == self.capacity\n",
    "\n",
    "    def size(self):\n",
    "        return self.count\n",
    "\n",
    "    def __repr__(self):\n",
    "        return f\"CircularQueue({self.queue}, front={self.front_index}, rear={self.rear_index}, size={self.count})\"\n"
   ]
  },
  {
   "cell_type": "markdown",
   "id": "f8fc5c4f",
   "metadata": {},
   "source": [
    "Test Cases:"
   ]
  },
  {
   "cell_type": "code",
   "execution_count": 6,
   "id": "9fc5f5e3",
   "metadata": {},
   "outputs": [
    {
     "name": "stdout",
     "output_type": "stream",
     "text": [
      "Initially empty? Should return True: True\n",
      "Initially full? Should return False: False\n",
      "Initial size? Should return 0: 0\n",
      "Dequeue on empty? Should return None: None\n",
      "Front on empty? Should return None: None\n",
      "Enqueue 10? Should return True: True\n",
      "Enqueue 20? Should return True: True\n",
      "Enqueue 30? Should return True: True\n",
      "Enqueue 40 (should fail)? Should return False: False\n",
      "Is full? Should return True: True\n",
      "Front element? Should return 10: 10\n",
      "Dequeue? Should return 10: 10\n",
      "Dequeue? Should return 20: 20\n",
      "Enqueue 40? Should return True: True\n",
      "Enqueue 50? Should return True: True\n",
      "Final size? Should return 3: 3\n",
      "Front element now? Should return 30: 30\n"
     ]
    }
   ],
   "source": [
    "# Create a circular queue of size 3\n",
    "cq = CircularQueue(3)\n",
    "\n",
    "# Check empty / full / size\n",
    "print(f\"Initially empty? Should return True: {cq.is_empty()}\")\n",
    "print(f\"Initially full? Should return False: {cq.is_full()}\")\n",
    "print(f\"Initial size? Should return 0: {cq.size()}\")\n",
    "\n",
    "# Check dequeue and front on empty queue\n",
    "print(f\"Dequeue on empty? Should return None: {cq.dequeue()}\")\n",
    "print(f\"Front on empty? Should return None: {cq.front()}\")\n",
    "\n",
    "# Enqueue elements\n",
    "print(f\"Enqueue 10? Should return True: {cq.enqueue(10)}\")\n",
    "print(f\"Enqueue 20? Should return True: {cq.enqueue(20)}\")\n",
    "print(f\"Enqueue 30? Should return True: {cq.enqueue(30)}\")\n",
    "\n",
    "# Try enqueue when full\n",
    "print(f\"Enqueue 40 (should fail)? Should return False: {cq.enqueue(40)}\")\n",
    "print(f\"Is full? Should return True: {cq.is_full()}\")\n",
    "\n",
    "# Front element\n",
    "print(f\"Front element? Should return 10: {cq.front()}\")\n",
    "\n",
    "# Dequeue elements\n",
    "print(f\"Dequeue? Should return 10: {cq.dequeue()}\")\n",
    "print(f\"Dequeue? Should return 20: {cq.dequeue()}\")\n",
    "\n",
    "# Add elements to test wrap-around\n",
    "print(f\"Enqueue 40? Should return True: {cq.enqueue(40)}\")\n",
    "print(f\"Enqueue 50? Should return True: {cq.enqueue(50)}\")\n",
    "\n",
    "# Final checks\n",
    "print(f\"Final size? Should return 3: {cq.size()}\")\n",
    "print(f\"Front element now? Should return 30: {cq.front()}\")\n"
   ]
  }
 ],
 "metadata": {
  "kernelspec": {
   "display_name": "Python 3",
   "language": "python",
   "name": "python3"
  },
  "language_info": {
   "codemirror_mode": {
    "name": "ipython",
    "version": 3
   },
   "file_extension": ".py",
   "mimetype": "text/x-python",
   "name": "python",
   "nbconvert_exporter": "python",
   "pygments_lexer": "ipython3",
   "version": "3.10.12"
  }
 },
 "nbformat": 4,
 "nbformat_minor": 5
}
